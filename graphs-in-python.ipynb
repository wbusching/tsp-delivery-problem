{
 "cells": [
  {
   "attachments": {},
   "cell_type": "markdown",
   "metadata": {},
   "source": [
    "# Graphs in Python"
   ]
  },
  {
   "cell_type": "code",
   "execution_count": 1,
   "metadata": {},
   "outputs": [],
   "source": [
    "# create an empty graph with no nodes and no edges\n",
    "import networkx as nx\n",
    "\n",
    "G = nx.Graph()"
   ]
  },
  {
   "attachments": {},
   "cell_type": "markdown",
   "metadata": {},
   "source": [
    "## Nodes\n",
    "\n",
    "Nodes can be any hashable object, e.g. a text string, image, another graph, a function, a customized node object, etc."
   ]
  },
  {
   "cell_type": "code",
   "execution_count": 19,
   "metadata": {},
   "outputs": [
    {
     "name": "stdout",
     "output_type": "stream",
     "text": [
      "11\n"
     ]
    },
    {
     "data": {
      "text/plain": [
       "[1,\n",
       " 2,\n",
       " 3,\n",
       " 4,\n",
       " 0,\n",
       " 5,\n",
       " 6,\n",
       " 7,\n",
       " 8,\n",
       " 9,\n",
       " <networkx.classes.graph.Graph at 0x7feca6532400>]"
      ]
     },
     "execution_count": 19,
     "metadata": {},
     "output_type": "execute_result"
    }
   ],
   "source": [
    "# adding nodes\n",
    "G.add_node(1)\n",
    "G.add_nodes_from([2, 3])\n",
    "\n",
    "# add nodes from another graph\n",
    "H = nx.path_graph(10) # (10 nodes, 9 edges)\n",
    "G.add_nodes_from(H)\n",
    "\n",
    "# add another graph as a node\n",
    "G.add_node(H)\n",
    "\n",
    "print(G.number_of_nodes())\n",
    "list(G.nodes)"
   ]
  },
  {
   "attachments": {},
   "cell_type": "markdown",
   "metadata": {},
   "source": [
    "Note that in the above, nodes are characterized as integers, so adding nodes from $H$ will not duplicate nodes 1-3, which have already been added.\n",
    "\n",
    "Further, `add_nodes_from` only adds the _nodes_ from H, not its edges.\n",
    "\n",
    "## Edges"
   ]
  },
  {
   "cell_type": "code",
   "execution_count": 20,
   "metadata": {},
   "outputs": [
    {
     "name": "stdout",
     "output_type": "stream",
     "text": [
      "11\n"
     ]
    },
    {
     "data": {
      "text/plain": [
       "[(1, 2),\n",
       " (1, 3),\n",
       " (1, 0),\n",
       " (2, 3),\n",
       " (2, 4),\n",
       " (3, 4),\n",
       " (4, 5),\n",
       " (5, 6),\n",
       " (6, 7),\n",
       " (7, 8),\n",
       " (8, 9)]"
      ]
     },
     "execution_count": 20,
     "metadata": {},
     "output_type": "execute_result"
    }
   ],
   "source": [
    "G.add_edge(1, 2) # add an edge from node 1 to node 2\n",
    "e = (2, 3) # tuple that specifies an edge we would like to add\n",
    "G.add_edge(*e) # unpack edge tuple\n",
    "G.add_edges_from([(1, 3), (2, 4)]) # add a list of edges\n",
    "\n",
    "# can add an \"ebunch\" of edges, i.e. an iterable container of edge-tuples\n",
    "G.add_edges_from(H.edges)\n",
    "\n",
    "print(G.number_of_edges())\n",
    "list(G.edges)\n",
    "\n",
    "# G.clear() would clear the graph"
   ]
  },
  {
   "attachments": {},
   "cell_type": "markdown",
   "metadata": {},
   "source": [
    "Note that for directed graphs, the order of adjacency reporting is the order of edge addition (i.e. adding the edge (1, 2) creates an edge that points from node 1 to node 2)."
   ]
  },
  {
   "cell_type": "code",
   "execution_count": 23,
   "metadata": {},
   "outputs": [],
   "source": [
    "# example\n",
    "DG = nx.DiGraph()\n",
    "DG.add_edges_from([(2, 1), (1, 3), (2, 4), (1, 2)])\n",
    "\n",
    "assert list(DG.successors(2)) == [1, 4]\n",
    "assert list(DG.edges) == [(2, 1), (2, 4), (1, 3), (1, 2)]"
   ]
  },
  {
   "attachments": {},
   "cell_type": "markdown",
   "metadata": {},
   "source": [
    "## Examining elements of a graph\n",
    "\n",
    "These methods return set-like, read-only views of the nodes/edges/neighbors/degrees of nodes in a graph."
   ]
  },
  {
   "cell_type": "code",
   "execution_count": 30,
   "metadata": {},
   "outputs": [
    {
     "data": {
      "text/plain": [
       "[2, 3, 0]"
      ]
     },
     "execution_count": 30,
     "metadata": {},
     "output_type": "execute_result"
    }
   ],
   "source": [
    "print(list(G.nodes))\n",
    "print(list(G.edges))\n",
    "print(G.adj[1]) # list the neighbors of node 1 [same as list(G.neighbors(1))]\n",
    "print(G.degree[1]) # the number of edges incident to 1"
   ]
  },
  {
   "attachments": {},
   "cell_type": "markdown",
   "metadata": {},
   "source": [
    "## Removing nodes"
   ]
  },
  {
   "cell_type": "code",
   "execution_count": 35,
   "metadata": {},
   "outputs": [
    {
     "name": "stdout",
     "output_type": "stream",
     "text": [
      "8 3\n",
      "[1, 2, 3, 'spam', 's', 'p', 'a', 'm']\n",
      "[(1, 2), (1, 3), (3, 'm')]\n",
      "[1, 3, 'spam']\n",
      "[]\n"
     ]
    }
   ],
   "source": [
    "G.clear()\n",
    "G.add_edges_from([(1, 2), (1, 3)])\n",
    "G.add_node(1)\n",
    "G.add_edge(1, 2)\n",
    "G.add_node(\"spam\")        # adds node \"spam\"\n",
    "G.add_nodes_from(\"spam\")  # adds 4 nodes: 's', 'p', 'a', 'm'\n",
    "G.add_edge(3, 'm')\n",
    "\n",
    "print(G.number_of_nodes(), G.number_of_edges())\n",
    "print(list(G.nodes))\n",
    "print(list(G.edges))\n",
    "\n",
    "G.remove_node(2)\n",
    "G.remove_nodes_from(\"spam\")\n",
    "print(list(G.nodes))\n",
    "G.remove_edge(1, 3)\n",
    "print(list(G.edges))\n",
    "\n"
   ]
  }
 ],
 "metadata": {
  "kernelspec": {
   "display_name": "base",
   "language": "python",
   "name": "python3"
  },
  "language_info": {
   "codemirror_mode": {
    "name": "ipython",
    "version": 3
   },
   "file_extension": ".py",
   "mimetype": "text/x-python",
   "name": "python",
   "nbconvert_exporter": "python",
   "pygments_lexer": "ipython3",
   "version": "3.8.8"
  },
  "orig_nbformat": 4
 },
 "nbformat": 4,
 "nbformat_minor": 2
}
