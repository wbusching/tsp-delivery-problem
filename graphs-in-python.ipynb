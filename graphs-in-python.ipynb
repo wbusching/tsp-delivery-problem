{
 "cells": [
  {
   "attachments": {},
   "cell_type": "markdown",
   "metadata": {},
   "source": [
    "# Graphs in Python"
   ]
  },
  {
   "cell_type": "code",
   "execution_count": 55,
   "metadata": {},
   "outputs": [],
   "source": [
    "# create an empty graph with no nodes and no edges\n",
    "import networkx as nx\n",
    "\n",
    "G = nx.Graph()"
   ]
  },
  {
   "attachments": {},
   "cell_type": "markdown",
   "metadata": {},
   "source": [
    "## Nodes\n",
    "\n",
    "Nodes can be any hashable object, e.g. a text string, image, another graph, a function, a customized node object, etc. Typically, these will just be numbers or strings."
   ]
  },
  {
   "cell_type": "code",
   "execution_count": 56,
   "metadata": {},
   "outputs": [
    {
     "name": "stdout",
     "output_type": "stream",
     "text": [
      "# nodes in G: 11\n",
      "Nodes: [1, 2, 3, 0, 4, 5, 6, 7, 8, 9, <networkx.classes.graph.Graph object at 0x7fe1c0bb66a0>]\n",
      "Edges: []\n"
     ]
    }
   ],
   "source": [
    "# adding nodes\n",
    "G.clear()\n",
    "G.add_node(1)\n",
    "G.add_nodes_from([2, 3])\n",
    "\n",
    "# add nodes from another graph\n",
    "H = nx.path_graph(10) # (10 nodes, 9 edges)\n",
    "G.add_nodes_from(H)\n",
    "\n",
    "# add another graph as a node\n",
    "G.add_node(H)\n",
    "\n",
    "print(\"# nodes in G:\", G.number_of_nodes())\n",
    "print(\"Nodes:\", list(G.nodes))\n",
    "print(\"Edges:\", list(G.edges))"
   ]
  },
  {
   "attachments": {},
   "cell_type": "markdown",
   "metadata": {},
   "source": [
    "Note that in the above, nodes are characterized as integers, so adding nodes from $H$ will not duplicate nodes 1-3, which have already been added.\n",
    "\n",
    "Further, `add_nodes_from` only adds the _nodes_ from H, not its edges.\n",
    "\n",
    "## Edges"
   ]
  },
  {
   "cell_type": "code",
   "execution_count": 57,
   "metadata": {},
   "outputs": [
    {
     "name": "stdout",
     "output_type": "stream",
     "text": [
      "# edges in G: 11\n",
      "Nodes: [1, 2, 3, 0, 4, 5, 6, 7, 8, 9, <networkx.classes.graph.Graph object at 0x7fe1c0bb66a0>]\n",
      "Edges: [(1, 2), (1, 3), (1, 0), (2, 3), (2, 4), (3, 4), (4, 5), (5, 6), (6, 7), (7, 8), (8, 9)]\n"
     ]
    }
   ],
   "source": [
    "G.add_edge(1, 2) # add an edge from node 1 to node 2\n",
    "e = (2, 3) # tuple that specifies an edge we would like to add\n",
    "G.add_edge(*e) # unpack edge tuple\n",
    "G.add_edges_from([(1, 3), (2, 4)]) # add a list of edges\n",
    "\n",
    "# can add an \"ebunch\" of edges, i.e. an iterable container of edge-tuples\n",
    "G.add_edges_from(H.edges)\n",
    "\n",
    "print(\"# edges in G:\", G.number_of_edges())\n",
    "print(\"Nodes:\", list(G.nodes))\n",
    "print(\"Edges:\", list(G.edges))\n",
    "\n",
    "# G.clear() would clear the graph"
   ]
  },
  {
   "attachments": {},
   "cell_type": "markdown",
   "metadata": {},
   "source": [
    "Note that for directed graphs, the order of adjacency reporting is the order of edge addition (i.e. adding the edge (1, 2) creates an edge that points from node 1 to node 2)."
   ]
  },
  {
   "cell_type": "code",
   "execution_count": 58,
   "metadata": {},
   "outputs": [],
   "source": [
    "# example\n",
    "DG = nx.DiGraph()\n",
    "DG.add_edges_from([(2, 1), (1, 3), (2, 4), (1, 2)])\n",
    "\n",
    "# assert that the neighbors of node 2 are 1 and 4\n",
    "assert list(DG.successors(2)) == [1, 4]"
   ]
  },
  {
   "attachments": {},
   "cell_type": "markdown",
   "metadata": {},
   "source": [
    "## Examining elements of a graph\n",
    "\n",
    "These methods return set-like, read-only views of the nodes/edges/neighbors/degrees of nodes in a graph."
   ]
  },
  {
   "cell_type": "code",
   "execution_count": 59,
   "metadata": {},
   "outputs": [
    {
     "name": "stdout",
     "output_type": "stream",
     "text": [
      "Nodes: [1, 2, 3, 0, 4, 5, 6, 7, 8, 9, <networkx.classes.graph.Graph object at 0x7fe1c0bb66a0>] \n",
      "^type <class 'networkx.classes.reportviews.NodeView'>\n",
      "Nodes: [(1, 2), (1, 3), (1, 0), (2, 3), (2, 4), (3, 4), (4, 5), (5, 6), (6, 7), (7, 8), (8, 9)] \n",
      "^type <class 'networkx.classes.reportviews.EdgeView'>\n",
      "Neighbors of node 1: {2: {}, 3: {}, 0: {}} \n",
      "^type <class 'networkx.classes.coreviews.AtlasView'>\n",
      "# edges incident to node 1: 3 \n",
      "^type <class 'int'>\n",
      "Edges connected to nodes 2 and 6:  [(2, 1), (2, 3), (2, 4), (6, 5), (6, 7)]\n",
      "Degrees of nodes 2 and 6: [(2, 3), (6, 2)]\n"
     ]
    }
   ],
   "source": [
    "print(\"Nodes:\", list(G.nodes), \"\\n^type\", type(G.nodes))\n",
    "print(\"Nodes:\", list(G.edges), \"\\n^type\", type(G.edges))\n",
    "print(\"Neighbors of node 1:\", G.adj[1], \"\\n^type\", type(G.adj[1])) \n",
    "# ^list the neighbors of node 1 [same as list(G.neighbors(1))]\n",
    "print(\"# edges incident to node 1:\", G.degree[1], \"\\n^type\", type(G.degree[1])) \n",
    "# ^ the number of edges incident to 1\n",
    "\n",
    "# we can also report the edges and degree for an nbunch of nodes.\n",
    "print(\"Edges connected to nodes 2 and 6: \", G.edges([2, 6])) \n",
    "# ^note that passing `None` into the edges() method returns all edges)\n",
    "print(\"Degrees of nodes 2 and 6:\", G.degree([2, 6]))"
   ]
  },
  {
   "attachments": {},
   "cell_type": "markdown",
   "metadata": {},
   "source": [
    "## Removing graph elements"
   ]
  },
  {
   "cell_type": "code",
   "execution_count": 60,
   "metadata": {},
   "outputs": [
    {
     "name": "stdout",
     "output_type": "stream",
     "text": [
      "8 nodes; 3 edges in G.\n",
      "Nodes: [1, 2, 3, 'spam', 's', 'p', 'a', 'm']\n",
      "Edges: [(1, 2), (1, 3), (3, 'm')]\n",
      "\n",
      "Removing node 2\n",
      "Removing nodes \"spam\"\n",
      "Nodes: [1, 3, 'spam']\n",
      "Removing edge (1, 3)\n",
      "Edges: []\n"
     ]
    }
   ],
   "source": [
    "G.clear()\n",
    "G.add_edges_from([(1, 2), (1, 3)]) # note that this adds nodes implicitly\n",
    "#print(G.nodes)\n",
    "G.add_node(1)\n",
    "G.add_node(\"spam\")        # adds node \"spam\"\n",
    "G.add_nodes_from(\"spam\")  # adds 4 nodes: 's', 'p', 'a', 'm'\n",
    "G.add_edge(3, 'm')\n",
    "\n",
    "print(G.number_of_nodes(), \"nodes;\", G.number_of_edges(), \"edges in G.\")\n",
    "print(\"Nodes:\", list(G.nodes))\n",
    "print(\"Edges:\", list(G.edges))\n",
    "\n",
    "G.remove_node(2)\n",
    "print(\"\\nRemoving node 2\")\n",
    "G.remove_nodes_from(\"spam\")\n",
    "print(\"Removing nodes \\\"spam\\\"\")\n",
    "print(\"Nodes:\",list(G.nodes))\n",
    "G.remove_edge(1, 3)\n",
    "print(\"Removing edge (1, 3)\")\n",
    "print(\"Edges:\", list(G.edges))\n",
    "\n"
   ]
  },
  {
   "attachments": {},
   "cell_type": "markdown",
   "metadata": {},
   "source": [
    "# Graph constructors\n",
    "\n",
    "Data specifying graph structure can be passed directly to the constructors of various graph classes.\n",
    "\n",
    "Take G as specified above. We can crate a Digraph using the connections from G."
   ]
  },
  {
   "cell_type": "code",
   "execution_count": 64,
   "metadata": {},
   "outputs": [
    {
     "name": "stdout",
     "output_type": "stream",
     "text": [
      "G looks like\n",
      "Nodes: [1, 3, 'spam', 2]\n",
      "Edges: [(1, 2)]\n",
      "\n",
      "Edges of H, the digraph created from G: [(1, 2), (2, 1)]\n"
     ]
    }
   ],
   "source": [
    "G.add_edge(1, 2)\n",
    "print(\"G looks like\\nNodes:\", list(G.nodes))\n",
    "print(\"Edges:\", list(G.edges))\n",
    "\n",
    "H_1 = nx.DiGraph(G)\n",
    "print(\"\\nEdges of H_1, the digraph created from G:\", list(H_1.edges))"
   ]
  },
  {
   "attachments": {},
   "cell_type": "markdown",
   "metadata": {},
   "source": [
    "We can also create a graph directly from a list of edges. Note again that doing this will implicitly add the nodes the edges are connected to."
   ]
  },
  {
   "cell_type": "code",
   "execution_count": 67,
   "metadata": {},
   "outputs": [
    {
     "name": "stdout",
     "output_type": "stream",
     "text": [
      "Nodes of H_2, the graph created from our edge list: [0, 1, 2, 3]\n",
      "Edges of H_2: [(0, 1), (1, 2), (2, 3)]\n"
     ]
    }
   ],
   "source": [
    "edge_list = [(0, 1), (1, 2), (2, 3)]\n",
    "H_2 = nx.Graph(edge_list)\n",
    "print(\"Nodes of H_2, the graph created from our edge list:\", list(H_2.nodes))\n",
    "print(\"Edges of H_2:\", list(H_2.edges))"
   ]
  },
  {
   "attachments": {},
   "cell_type": "markdown",
   "metadata": {},
   "source": [
    "Another way to do this: create a dictionary of adjacencies, i.e. a map from a given node to the list of nodes it is adjacent to.  Then, instantiate a graph using this dictionary."
   ]
  },
  {
   "cell_type": "code",
   "execution_count": 70,
   "metadata": {},
   "outputs": [
    {
     "name": "stdout",
     "output_type": "stream",
     "text": [
      "Nodes of H_3, the graph created from our dictionary: [0, 1, 2]\n",
      "Edges of H_3: [(0, 1), (0, 2), (1, 2)]\n"
     ]
    }
   ],
   "source": [
    "adjacency_dict = {0 : [1, 2], \n",
    "                  1 : [0, 2],\n",
    "                  2 : [0, 1]}\n",
    "H_3 = nx.Graph(adjacency_dict)\n",
    "print(\"Nodes of H_3, the graph created from our dictionary:\", list(H_3.nodes))\n",
    "print(\"Edges of H_3:\", list(H_3.edges))"
   ]
  },
  {
   "cell_type": "code",
   "execution_count": null,
   "metadata": {},
   "outputs": [],
   "source": []
  }
 ],
 "metadata": {
  "kernelspec": {
   "display_name": "base",
   "language": "python",
   "name": "python3"
  },
  "language_info": {
   "codemirror_mode": {
    "name": "ipython",
    "version": 3
   },
   "file_extension": ".py",
   "mimetype": "text/x-python",
   "name": "python",
   "nbconvert_exporter": "python",
   "pygments_lexer": "ipython3",
   "version": "3.8.8"
  },
  "orig_nbformat": 4
 },
 "nbformat": 4,
 "nbformat_minor": 2
}
