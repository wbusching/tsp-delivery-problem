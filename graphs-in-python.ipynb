{
 "cells": [
  {
   "attachments": {},
   "cell_type": "markdown",
   "metadata": {},
   "source": [
    "# Graphs in Python (NetworkX)"
   ]
  },
  {
   "cell_type": "code",
   "execution_count": 76,
   "metadata": {},
   "outputs": [],
   "source": [
    "# create an empty graph with no nodes and no edges\n",
    "import networkx as nx\n",
    "\n",
    "G = nx.Graph()"
   ]
  },
  {
   "attachments": {},
   "cell_type": "markdown",
   "metadata": {},
   "source": [
    "## The Basics: nodes and edges"
   ]
  },
  {
   "attachments": {},
   "cell_type": "markdown",
   "metadata": {},
   "source": [
    "### Nodes"
   ]
  },
  {
   "attachments": {},
   "cell_type": "markdown",
   "metadata": {},
   "source": [
    "Nodes can be any hashable object, e.g. a text string, image, another graph, a function, a customized node object, etc. Typically, these will just be numbers or strings."
   ]
  },
  {
   "cell_type": "code",
   "execution_count": 77,
   "metadata": {},
   "outputs": [
    {
     "name": "stdout",
     "output_type": "stream",
     "text": [
      "# nodes in G: 7\n",
      "Nodes: [1, 2, 3, 0, 4, 5, <networkx.classes.graph.Graph object at 0x7fb7e7848e80>]\n",
      "Edges: []\n"
     ]
    }
   ],
   "source": [
    "# adding nodes\n",
    "G.clear()\n",
    "G.add_node(1)\n",
    "G.add_nodes_from([2, 3])\n",
    "\n",
    "# add nodes from another graph\n",
    "H = nx.path_graph(6) # (Path graph: 6 nodes, 5 edges)\n",
    "G.add_nodes_from(H)\n",
    "\n",
    "# add another graph as a node\n",
    "G.add_node(H)\n",
    "\n",
    "print(\"# nodes in G:\", G.number_of_nodes())\n",
    "print(\"Nodes:\", list(G.nodes))\n",
    "print(\"Edges:\", list(G.edges))"
   ]
  },
  {
   "attachments": {},
   "cell_type": "markdown",
   "metadata": {},
   "source": [
    "Note that in the above, nodes are characterized as integers, so adding nodes from $H$ will not duplicate nodes 1-3, which have already been added.\n",
    "\n",
    "Further, `add_nodes_from` only adds the _nodes_ from H, not its edges."
   ]
  },
  {
   "attachments": {},
   "cell_type": "markdown",
   "metadata": {},
   "source": [
    "### Edges"
   ]
  },
  {
   "cell_type": "code",
   "execution_count": 78,
   "metadata": {},
   "outputs": [
    {
     "name": "stdout",
     "output_type": "stream",
     "text": [
      "# edges in G: 7\n",
      "Nodes: [1, 2, 3, 0, 4, 5, <networkx.classes.graph.Graph object at 0x7fb7e7848e80>]\n",
      "Edges: [(1, 2), (1, 3), (1, 0), (2, 3), (2, 4), (3, 4), (4, 5)]\n"
     ]
    }
   ],
   "source": [
    "G.add_edge(1, 2) # add an edge from node 1 to node 2\n",
    "e = (2, 3) # tuple that specifies an edge we would like to add\n",
    "G.add_edge(*e) # unpack edge tuple\n",
    "G.add_edges_from([(1, 3), (2, 4)]) # add a list of edges\n",
    "\n",
    "# can add an \"ebunch\" of edges, i.e. an iterable container of edge-tuples\n",
    "G.add_edges_from(H.edges)\n",
    "\n",
    "print(\"# edges in G:\", G.number_of_edges())\n",
    "print(\"Nodes:\", list(G.nodes))\n",
    "print(\"Edges:\", list(G.edges))"
   ]
  },
  {
   "attachments": {},
   "cell_type": "markdown",
   "metadata": {},
   "source": [
    "Note that for directed graphs, the order of adjacency reporting is the order of edge addition (i.e. adding the edge (1, 2) creates an edge that points from node 1 to node 2)."
   ]
  },
  {
   "cell_type": "code",
   "execution_count": 79,
   "metadata": {},
   "outputs": [],
   "source": [
    "# example\n",
    "DG = nx.DiGraph()\n",
    "DG.add_edges_from([(2, 1), (2, 4), (1, 3), (1, 2)])\n",
    "\n",
    "# assert that the neighbors of node 2 are 1 and 4\n",
    "assert list(DG.successors(2)) == [1, 4]"
   ]
  },
  {
   "attachments": {},
   "cell_type": "markdown",
   "metadata": {},
   "source": [
    "### Examining graph elements"
   ]
  },
  {
   "attachments": {},
   "cell_type": "markdown",
   "metadata": {},
   "source": [
    "These methods return set-like, _read-only_ views of the nodes/edges in a graph."
   ]
  },
  {
   "cell_type": "code",
   "execution_count": 80,
   "metadata": {},
   "outputs": [
    {
     "name": "stdout",
     "output_type": "stream",
     "text": [
      "Nodes: [1, 2, 3, 0, 4, 5, <networkx.classes.graph.Graph object at 0x7fb7e7848e80>] \n",
      "^type <class 'networkx.classes.reportviews.NodeView'>\n",
      "Edges: [(1, 2), (1, 3), (1, 0), (2, 3), (2, 4), (3, 4), (4, 5)] \n",
      "^type <class 'networkx.classes.reportviews.EdgeView'>\n",
      "Edges connected to nodes 2 and 6:  [(2, 1), (2, 3), (2, 4)]\n"
     ]
    }
   ],
   "source": [
    "print(\"Nodes:\", list(G.nodes()), \"\\n^type\", type(G.nodes()))\n",
    "print(\"Edges:\", list(G.edges()), \"\\n^type\", type(G.edges()))\n",
    "\n",
    "# we can also view the edges incident on a subset of all nodes.\n",
    "print(\"Edges connected to nodes 2 and 6: \", G.edges([2, 6])) \n",
    "# ^note that passing `None` into the edges() method returns all edges)\n"
   ]
  },
  {
   "attachments": {},
   "cell_type": "markdown",
   "metadata": {},
   "source": [
    "We can also list the neighbors of a specific node, as well as determine its degree."
   ]
  },
  {
   "cell_type": "code",
   "execution_count": 81,
   "metadata": {},
   "outputs": [
    {
     "name": "stdout",
     "output_type": "stream",
     "text": [
      "Neighbors of node 1: {2: {}, 3: {}, 0: {}} \n",
      "^type <class 'networkx.classes.coreviews.AtlasView'>\n",
      "\n",
      "Degree of node 1: 3 \n",
      "^type <class 'int'>\n",
      "\n",
      "Degrees of nodes 2 and 6: [(2, 3)] \n",
      "^type <class 'networkx.classes.reportviews.DegreeView'>\n"
     ]
    }
   ],
   "source": [
    "print(\"Neighbors of node 1:\", \n",
    "      G.adj[1], \n",
    "      \"\\n^type\", type(G.adj[1])) \n",
    "# ^list the neighbors of node 1 [same as list(G.neighbors(1))]\n",
    "\n",
    "print(\"\\nDegree of node 1:\", \n",
    "      G.degree[1], \n",
    "      \"\\n^type\", type(G.degree[1])) \n",
    "\n",
    "# determine degree of multiple nodes at once\n",
    "print(\"\\nDegrees of nodes 2 and 6:\", G.degree([2, 6]), \"\\n^type\", type(G.degree([2, 6])))"
   ]
  },
  {
   "attachments": {},
   "cell_type": "markdown",
   "metadata": {},
   "source": [
    "### Removing graph elements"
   ]
  },
  {
   "cell_type": "code",
   "execution_count": 82,
   "metadata": {},
   "outputs": [
    {
     "name": "stdout",
     "output_type": "stream",
     "text": [
      "8 nodes; 3 edges in G.\n",
      "Nodes: [1, 2, 3, 'spam', 's', 'p', 'a', 'm']\n",
      "Edges: [(1, 2), (1, 3), (3, 'm')]\n",
      "\n",
      "Removing node 2\n",
      "Removing nodes \"spam\"\n",
      "Nodes: [1, 3, 'spam']\n",
      "Removing edge (1, 3)\n",
      "Edges: []\n"
     ]
    }
   ],
   "source": [
    "G.clear()\n",
    "G.add_edges_from([(1, 2), (1, 3)]) # note that this adds nodes implicitly\n",
    "#print(G.nodes)\n",
    "G.add_node(1)\n",
    "G.add_node(\"spam\")        # adds node \"spam\"\n",
    "G.add_nodes_from(\"spam\")  # adds 4 nodes: 's', 'p', 'a', 'm'\n",
    "G.add_edge(3, 'm')\n",
    "\n",
    "print(G.number_of_nodes(), \"nodes;\", G.number_of_edges(), \"edges in G.\")\n",
    "print(\"Nodes:\", list(G.nodes()))\n",
    "print(\"Edges:\", list(G.edges()))\n",
    "\n",
    "G.remove_node(2)\n",
    "print(\"\\nRemoving node 2\")\n",
    "G.remove_nodes_from(\"spam\")\n",
    "print(\"Removing nodes \\\"spam\\\"\")\n",
    "print(\"Nodes:\",list(G.nodes()))\n",
    "G.remove_edge(1, 3)\n",
    "print(\"Removing edge (1, 3)\")\n",
    "print(\"Edges:\", list(G.edges()))\n",
    "\n"
   ]
  },
  {
   "attachments": {},
   "cell_type": "markdown",
   "metadata": {},
   "source": [
    "## Graph constructors\n",
    "\n",
    "Data specifying graph structure can be passed directly to the constructors of various graph classes.\n",
    "\n",
    "We can crate a Digraph using the connections from G."
   ]
  },
  {
   "cell_type": "code",
   "execution_count": 83,
   "metadata": {},
   "outputs": [
    {
     "name": "stdout",
     "output_type": "stream",
     "text": [
      "G looks like\n",
      "Nodes: [1, 3, 'spam', 2]\n",
      "Edges: [(1, 2)]\n",
      "\n",
      "Edges of H_1, the digraph created from G: [(1, 2), (2, 1)]\n"
     ]
    }
   ],
   "source": [
    "G.add_edge(1, 2)\n",
    "print(\"G looks like\\nNodes:\", list(G.nodes()))\n",
    "print(\"Edges:\", list(G.edges()))\n",
    "\n",
    "H_1 = nx.DiGraph(G)\n",
    "print(\"\\nEdges of H_1, the digraph created from G:\", list(H_1.edges()))"
   ]
  },
  {
   "attachments": {},
   "cell_type": "markdown",
   "metadata": {},
   "source": [
    "We can also create a graph directly from a list of edges. Note again that doing this will implicitly add the nodes the edges are connected to."
   ]
  },
  {
   "cell_type": "code",
   "execution_count": 84,
   "metadata": {},
   "outputs": [
    {
     "name": "stdout",
     "output_type": "stream",
     "text": [
      "Nodes of H_2, the graph created from our edge list: [0, 1, 2, 3]\n",
      "Edges of H_2: [(0, 1), (1, 2), (2, 3)]\n"
     ]
    }
   ],
   "source": [
    "edge_list = [(0, 1), (1, 2), (2, 3)]\n",
    "H_2 = nx.Graph(edge_list)\n",
    "print(\"Nodes of H_2, the graph created from our edge list:\", list(H_2.nodes))\n",
    "print(\"Edges of H_2:\", list(H_2.edges))"
   ]
  },
  {
   "attachments": {},
   "cell_type": "markdown",
   "metadata": {},
   "source": [
    "Another way to do this: create a dictionary of adjacencies, i.e. a map from a given node to the list of nodes it is adjacent to.  Then, instantiate a graph using this dictionary."
   ]
  },
  {
   "cell_type": "code",
   "execution_count": 85,
   "metadata": {},
   "outputs": [
    {
     "name": "stdout",
     "output_type": "stream",
     "text": [
      "Nodes of H_3, the graph created from our dictionary: [0, 1, 2]\n",
      "Edges of H_3: [(0, 1), (0, 2), (1, 2)]\n"
     ]
    }
   ],
   "source": [
    "adjacency_dict = {0 : [1, 2], \n",
    "                  1 : [0, 2],\n",
    "                  2 : [0, 1]}\n",
    "H_3 = nx.Graph(adjacency_dict)\n",
    "print(\"Nodes of H_3, the graph created from our dictionary:\", list(H_3.nodes))\n",
    "print(\"Edges of H_3:\", list(H_3.edges))"
   ]
  },
  {
   "attachments": {},
   "cell_type": "markdown",
   "metadata": {},
   "source": [
    "## Accessing elements in a graph"
   ]
  },
  {
   "attachments": {},
   "cell_type": "markdown",
   "metadata": {},
   "source": [
    "Recall: \n",
    "- `G.edges()`, which allows us to view the edges of G\n",
    "- `G.adj[1]`, which allows us to view the neighbors of e.g. node 1\n",
    "\n",
    "We can also use subscript notation to access edges and neighbors. `G[1]`, which is the same as `G.adj[1]`, will return the neighbors of node 1."
   ]
  },
  {
   "cell_type": "code",
   "execution_count": 93,
   "metadata": {},
   "outputs": [
    {
     "name": "stdout",
     "output_type": "stream",
     "text": [
      "Nodes: [1, 2]\n",
      "Edges: [(1, 2)]\n",
      "{1: {'color': 'yellow'}}\n"
     ]
    }
   ],
   "source": [
    "G.clear()\n",
    "# denote an edge we'll use to construct a new graph. \n",
    "# note that this must be in the form of a single-element list.\n",
    "special_edge = [(1, 2, {\"color\" : \"yellow\"})] # we have given this edge an attribute (more on that later)\n",
    "G = nx.Graph(special_edge) # creates a graph using this special edge\n",
    "\n",
    "print(\"Nodes:\", G.nodes)\n",
    "print(\"Edges:\", G.edges)\n",
    "\n",
    "# print the neighbor of node 1\n",
    "print(G[2])\n"
   ]
  },
  {
   "attachments": {},
   "cell_type": "markdown",
   "metadata": {},
   "source": [
    "## Node and Edge Attributes"
   ]
  },
  {
   "cell_type": "markdown",
   "metadata": {},
   "source": [
    "We can designate nodes with many attributes, as well. These are specified with a dictionary, that forms a 2-tuple with the node itself."
   ]
  },
  {
   "cell_type": "code",
   "execution_count": 86,
   "metadata": {},
   "outputs": [
    {
     "name": "stdout",
     "output_type": "stream",
     "text": [
      "[1, 2]\n"
     ]
    }
   ],
   "source": [
    "W = nx.Graph() # new graph, whose nodes have a color and size\n",
    "\n",
    "node_list = [\n",
    "    (1, {\"color\":\"red\", \"size\":4}), \n",
    "    (2, {\"color\":\"blue\", \"size\": 7})\n",
    "]\n",
    "\n",
    "W.add_nodes_from(node_list)\n",
    "\n",
    "print(W.nodes)"
   ]
  },
  {
   "cell_type": "code",
   "execution_count": null,
   "metadata": {},
   "outputs": [],
   "source": []
  },
  {
   "attachments": {},
   "cell_type": "markdown",
   "metadata": {},
   "source": [
    "We can also iterate through these views using the methods `.items()` and `.data()`."
   ]
  },
  {
   "cell_type": "code",
   "execution_count": 87,
   "metadata": {},
   "outputs": [
    {
     "name": "stdout",
     "output_type": "stream",
     "text": [
      "ItemsView(NodeView((1, 2)))\n",
      "[(1, {'color': 'red', 'size': 4}), (2, {'color': 'blue', 'size': 7})]\n",
      "1 {'color': 'red', 'size': 4}\n",
      "2 {'color': 'blue', 'size': 7}\n"
     ]
    }
   ],
   "source": [
    "print(W.nodes().items())\n",
    "print(W.nodes().data())\n",
    "\n",
    "# iteration would work with both of these methods\n",
    "for node, attribute in W.nodes().data():\n",
    "    print(node, attribute)"
   ]
  },
  {
   "cell_type": "code",
   "execution_count": null,
   "metadata": {},
   "outputs": [],
   "source": []
  }
 ],
 "metadata": {
  "kernelspec": {
   "display_name": "base",
   "language": "python",
   "name": "python3"
  },
  "language_info": {
   "codemirror_mode": {
    "name": "ipython",
    "version": 3
   },
   "file_extension": ".py",
   "mimetype": "text/x-python",
   "name": "python",
   "nbconvert_exporter": "python",
   "pygments_lexer": "ipython3",
   "version": "3.8.8"
  },
  "orig_nbformat": 4
 },
 "nbformat": 4,
 "nbformat_minor": 2
}
